{
 "metadata": {
  "name": "",
  "signature": "sha256:371525eeafa53714157b814535e7ad202c31cac764f9ee09fbdde888a5b719da"
 },
 "nbformat": 3,
 "nbformat_minor": 0,
 "worksheets": [
  {
   "cells": [
    {
     "cell_type": "code",
     "collapsed": false,
     "input": [
      "%load_ext autoreload\n",
      "%autoreload 2\n",
      "import combinatorics as comb\n",
      "import lineplot_oo3 as lpoo3\n",
      "import my_plot as myplot\n",
      "import matplotlib as mpl\n",
      "import matplotlib.pyplot as plt\n",
      "import numpy as np\n",
      "from scipy.special import binom\n",
      "import itertools\n",
      "from collections import defaultdict\n",
      "%matplotlib qt"
     ],
     "language": "python",
     "metadata": {},
     "outputs": [],
     "prompt_number": 1
    },
    {
     "cell_type": "heading",
     "level": 1,
     "metadata": {},
     "source": [
      "Regular Poker"
     ]
    },
    {
     "cell_type": "code",
     "collapsed": false,
     "input": [
      "totalcomb = binom(comb.decksize,comb.combsize)"
     ],
     "language": "python",
     "metadata": {},
     "outputs": [],
     "prompt_number": 4
    },
    {
     "cell_type": "heading",
     "level": 2,
     "metadata": {},
     "source": [
      "Pair"
     ]
    },
    {
     "cell_type": "code",
     "collapsed": false,
     "input": [
      "ncomb = totalcomb - binom(13,5)*4**5\n",
      "ncomb/totalcomb"
     ],
     "language": "python",
     "metadata": {},
     "outputs": [
      {
       "metadata": {},
       "output_type": "pyout",
       "prompt_number": 5,
       "text": [
        "0.49291716686674669"
       ]
      }
     ],
     "prompt_number": 5
    },
    {
     "cell_type": "code",
     "collapsed": false,
     "input": [
      "comb.unnumbered_pair()"
     ],
     "language": "python",
     "metadata": {},
     "outputs": [
      {
       "metadata": {},
       "output_type": "pyout",
       "prompt_number": 6,
       "text": [
        "0.49291716686674669"
       ]
      }
     ],
     "prompt_number": 6
    },
    {
     "cell_type": "heading",
     "level": 2,
     "metadata": {},
     "source": [
      "Two Pair"
     ]
    },
    {
     "cell_type": "code",
     "collapsed": false,
     "input": [
      "ncomb = binom(13,2)*binom(4,2)**2*11*4 + 13*12*binom(4,2)*binom(4,3)\n",
      "ncomb/totalcomb"
     ],
     "language": "python",
     "metadata": {},
     "outputs": [
      {
       "metadata": {},
       "output_type": "pyout",
       "prompt_number": 7,
       "text": [
        "0.048979591836734691"
       ]
      }
     ],
     "prompt_number": 7
    },
    {
     "cell_type": "code",
     "collapsed": false,
     "input": [
      "comb.unnumbered_two_pair()"
     ],
     "language": "python",
     "metadata": {},
     "outputs": [
      {
       "metadata": {},
       "output_type": "pyout",
       "prompt_number": 8,
       "text": [
        "0.048979591836734698"
       ]
      }
     ],
     "prompt_number": 8
    },
    {
     "cell_type": "heading",
     "level": 2,
     "metadata": {},
     "source": [
      "Three of a Kind"
     ]
    },
    {
     "cell_type": "code",
     "collapsed": false,
     "input": [
      "# three of a kind + full house + four of a kind\n",
      "ncomb = 13*4**2*binom(4,3)*binom(12,2) + 13*12*binom(4,2)*binom(4,3) + 13*12*binom(4,4)*binom(4,1)\n",
      "ncomb/totalcomb"
     ],
     "language": "python",
     "metadata": {},
     "outputs": [
      {
       "metadata": {},
       "output_type": "pyout",
       "prompt_number": 9,
       "text": [
        "0.022809123649459785"
       ]
      }
     ],
     "prompt_number": 9
    },
    {
     "cell_type": "code",
     "collapsed": false,
     "input": [
      "comb.unnumbered_three_kind()"
     ],
     "language": "python",
     "metadata": {},
     "outputs": [
      {
       "metadata": {},
       "output_type": "pyout",
       "prompt_number": 10,
       "text": [
        "0.022809123649459785"
       ]
      }
     ],
     "prompt_number": 10
    },
    {
     "cell_type": "heading",
     "level": 2,
     "metadata": {},
     "source": [
      "Straight"
     ]
    },
    {
     "cell_type": "code",
     "collapsed": false,
     "input": [
      "ncomb = (comb.suitsize - 3)*comb.suitnum**comb.combsize\n",
      "ncomb/totalcomb"
     ],
     "language": "python",
     "metadata": {},
     "outputs": [
      {
       "metadata": {},
       "output_type": "pyout",
       "prompt_number": 11,
       "text": [
        "0.0039400375534829318"
       ]
      }
     ],
     "prompt_number": 11
    },
    {
     "cell_type": "code",
     "collapsed": false,
     "input": [
      "comb.unnumbered_straight()"
     ],
     "language": "python",
     "metadata": {},
     "outputs": [
      {
       "metadata": {},
       "output_type": "pyout",
       "prompt_number": 12,
       "text": [
        "0.003940037553470388"
       ]
      }
     ],
     "prompt_number": 12
    },
    {
     "cell_type": "heading",
     "level": 2,
     "metadata": {},
     "source": [
      "Flush"
     ]
    },
    {
     "cell_type": "code",
     "collapsed": false,
     "input": [
      "ncomb = binom(comb.suitsize,comb.combsize)*comb.suitnum\n",
      "ncomb/totalcomb"
     ],
     "language": "python",
     "metadata": {},
     "outputs": [
      {
       "metadata": {},
       "output_type": "pyout",
       "prompt_number": 13,
       "text": [
        "0.0019807923169267707"
       ]
      }
     ],
     "prompt_number": 13
    },
    {
     "cell_type": "code",
     "collapsed": false,
     "input": [
      "comb.unsuited_flush()"
     ],
     "language": "python",
     "metadata": {},
     "outputs": [
      {
       "metadata": {},
       "output_type": "pyout",
       "prompt_number": 14,
       "text": [
        "0.0019807923169267707"
       ]
      }
     ],
     "prompt_number": 14
    },
    {
     "cell_type": "heading",
     "level": 2,
     "metadata": {},
     "source": [
      "Full House"
     ]
    },
    {
     "cell_type": "code",
     "collapsed": false,
     "input": [
      "ncomb = 13*12*binom(4,2)*binom(4,3)\n",
      "ncomb/totalcomb"
     ],
     "language": "python",
     "metadata": {},
     "outputs": [
      {
       "metadata": {},
       "output_type": "pyout",
       "prompt_number": 15,
       "text": [
        "0.0014405762304921968"
       ]
      }
     ],
     "prompt_number": 15
    },
    {
     "cell_type": "code",
     "collapsed": false,
     "input": [
      "comb.unnumbered_full_house()"
     ],
     "language": "python",
     "metadata": {},
     "outputs": [
      {
       "metadata": {},
       "output_type": "pyout",
       "prompt_number": 16,
       "text": [
        "0.0014405762304921968"
       ]
      }
     ],
     "prompt_number": 16
    },
    {
     "cell_type": "heading",
     "level": 2,
     "metadata": {},
     "source": [
      "Four of a Kind"
     ]
    },
    {
     "cell_type": "code",
     "collapsed": false,
     "input": [
      "ncomb = 13*12*binom(4,4)*binom(4,1)\n",
      "ncomb/totalcomb"
     ],
     "language": "python",
     "metadata": {},
     "outputs": [
      {
       "metadata": {},
       "output_type": "pyout",
       "prompt_number": 17,
       "text": [
        "0.00024009603841536616"
       ]
      }
     ],
     "prompt_number": 17
    },
    {
     "cell_type": "code",
     "collapsed": false,
     "input": [
      "comb.unnumbered_four_kind()"
     ],
     "language": "python",
     "metadata": {},
     "outputs": [
      {
       "metadata": {},
       "output_type": "pyout",
       "prompt_number": 18,
       "text": [
        "0.00024009603841536613"
       ]
      }
     ],
     "prompt_number": 18
    },
    {
     "cell_type": "heading",
     "level": 2,
     "metadata": {},
     "source": [
      "Straight Flush"
     ]
    },
    {
     "cell_type": "code",
     "collapsed": false,
     "input": [
      "ncomb = 4*10\n",
      "ncomb/totalcomb"
     ],
     "language": "python",
     "metadata": {},
     "outputs": [
      {
       "metadata": {},
       "output_type": "pyout",
       "prompt_number": 19,
       "text": [
        "1.5390771693292702e-05"
       ]
      }
     ],
     "prompt_number": 19
    },
    {
     "cell_type": "code",
     "collapsed": false,
     "input": [
      "comb.unsuited_straight_flush()"
     ],
     "language": "python",
     "metadata": {},
     "outputs": [
      {
       "metadata": {},
       "output_type": "pyout",
       "prompt_number": 20,
       "text": [
        "1.5390771693292702e-05"
       ]
      }
     ],
     "prompt_number": 20
    },
    {
     "cell_type": "heading",
     "level": 2,
     "metadata": {},
     "source": [
      "Royal Flush"
     ]
    },
    {
     "cell_type": "code",
     "collapsed": false,
     "input": [
      "ncomb = 4\n",
      "ncomb/totalcomb"
     ],
     "language": "python",
     "metadata": {},
     "outputs": [
      {
       "metadata": {},
       "output_type": "pyout",
       "prompt_number": 21,
       "text": [
        "1.5390771693292702e-06"
       ]
      }
     ],
     "prompt_number": 21
    },
    {
     "cell_type": "code",
     "collapsed": false,
     "input": [
      "comb.unsuited_royal_flush()"
     ],
     "language": "python",
     "metadata": {},
     "outputs": [
      {
       "metadata": {},
       "output_type": "pyout",
       "prompt_number": 22,
       "text": [
        "1.5390771693292702e-06"
       ]
      }
     ],
     "prompt_number": 22
    },
    {
     "cell_type": "heading",
     "level": 1,
     "metadata": {},
     "source": [
      "Miscellaneous"
     ]
    },
    {
     "cell_type": "code",
     "collapsed": false,
     "input": [
      "comb.hypergeometric(4,13,5,52)"
     ],
     "language": "python",
     "metadata": {},
     "outputs": [
      {
       "metadata": {},
       "output_type": "pyout",
       "prompt_number": 23,
       "text": [
        "0.010729291716686675"
       ]
      }
     ],
     "prompt_number": 23
    },
    {
     "cell_type": "code",
     "collapsed": false,
     "input": [
      "comb.multi_hypergeometric([4],[13],5,52)"
     ],
     "language": "python",
     "metadata": {},
     "outputs": [
      {
       "metadata": {},
       "output_type": "pyout",
       "prompt_number": 24,
       "text": [
        "0.010729291716686675"
       ]
      }
     ],
     "prompt_number": 24
    },
    {
     "cell_type": "heading",
     "level": 1,
     "metadata": {},
     "source": [
      "Polish Poker"
     ]
    },
    {
     "cell_type": "code",
     "collapsed": false,
     "input": [
      "funcdict =  {'pair': comb.numbered_pair,\n",
      "             'two pair': comb.numbered_two_pair,\n",
      "             'three kind': comb.numbered_three_kind,\n",
      "             'straight': comb.numbered_straight,\n",
      "             'flush': comb.suited_flush,\n",
      "             'full house': comb.numbered_full_house,\n",
      "             'four kind': comb.numbered_four_kind,\n",
      "             'straight flush': comb.numbered_suited_straight_flush,\n",
      "             'royal flush': comb.suited_royal_flush}"
     ],
     "language": "python",
     "metadata": {},
     "outputs": [],
     "prompt_number": 25
    },
    {
     "cell_type": "code",
     "collapsed": false,
     "input": [
      "def odds_all(nvec):\n",
      "    oddsdict = defaultdict(list)\n",
      "    for n in nvec:\n",
      "        for comboname in funcdict.keys():\n",
      "            odds = odds_combo(comboname,n)\n",
      "            oddsdict[comboname].append(odds)\n",
      "    return oddsdict\n",
      "\n",
      "def odds_combo(comboname,n):\n",
      "    func = funcdict[comboname]\n",
      "    return func(n)\n",
      "\n",
      "def gen_data(oddsdict,nvec,combonames):\n",
      "    data = []\n",
      "    for comboname in combonames:\n",
      "        oddsvec = oddsdict[comboname]\n",
      "        data.append([nvec,oddsvec])\n",
      "    return data"
     ],
     "language": "python",
     "metadata": {},
     "outputs": [],
     "prompt_number": 36
    },
    {
     "cell_type": "code",
     "collapsed": false,
     "input": [
      "nvec = list(range(5,45,2))\n",
      "oddsdict = odds_all(nvec)"
     ],
     "language": "python",
     "metadata": {},
     "outputs": [],
     "prompt_number": 56
    },
    {
     "cell_type": "code",
     "collapsed": false,
     "input": [
      "data = gen_data(oddsdict,nvec,['pair','flush','straight','two pair','three kind','full house','four kind','straight flush'])\n",
      "plotdata = lpoo3.LinePlotData.from_dataset(data)\n",
      "fig = myplot.my_plot(plotdata)\n",
      "myplot.pretty_figure(fig,xlabel='Number of cards in play',ylabel='Odds of finding specific combination');"
     ],
     "language": "python",
     "metadata": {},
     "outputs": [],
     "prompt_number": 60
    },
    {
     "cell_type": "code",
     "collapsed": false,
     "input": [
      "odds_combo('two pair',5)"
     ],
     "language": "python",
     "metadata": {},
     "outputs": [
      {
       "metadata": {},
       "output_type": "pyout",
       "prompt_number": 45,
       "text": [
        "0.00062794348508634224"
       ]
      }
     ],
     "prompt_number": 45
    },
    {
     "cell_type": "code",
     "collapsed": false,
     "input": [
      "odds_combo('three kind',5)"
     ],
     "language": "python",
     "metadata": {},
     "outputs": [
      {
       "metadata": {},
       "output_type": "pyout",
       "prompt_number": 46,
       "text": [
        "0.001754547973035368"
       ]
      }
     ],
     "prompt_number": 46
    },
    {
     "cell_type": "code",
     "collapsed": false,
     "input": [
      "res = 0\n",
      "for i in range(0,14):\n",
      "    odds = comb.hyper_poker(k=i,K=13,n=20)\n",
      "    print(i,odds)\n",
      "    res += odds\n",
      "res"
     ],
     "language": "python",
     "metadata": {},
     "outputs": [
      {
       "output_type": "stream",
       "stream": "stdout",
       "text": [
        "0 0.000547033358183\n",
        "1 0.00711143365638\n",
        "2 0.0386049255632\n",
        "3 0.11581477669\n",
        "4 0.214005565622\n",
        "5 0.256806678747\n",
        "6 0.205445342997\n",
        "7 0.11062441546\n",
        "8 0.0399477055828\n",
        "9 0.0095113584721\n",
        "10 0.00144310266473\n",
        "11 0.000131191151339\n",
        "12 6.34795893577e-06\n",
        "13 1.2207613338e-07\n"
       ]
      },
      {
       "metadata": {},
       "output_type": "pyout",
       "prompt_number": 63,
       "text": [
        "0.99999999999996869"
       ]
      }
     ],
     "prompt_number": 63
    },
    {
     "cell_type": "heading",
     "level": 1,
     "metadata": {},
     "source": [
      "FizzBuzz"
     ]
    },
    {
     "cell_type": "code",
     "collapsed": false,
     "input": [
      "for i in range(1,101):\n",
      "    printstr = ''\n",
      "    if i%3 == 0:\n",
      "        printstr += 'Fizz'\n",
      "    if i%5 == 0:\n",
      "        printstr += 'Buzz'\n",
      "    print(printstr or i)"
     ],
     "language": "python",
     "metadata": {},
     "outputs": [
      {
       "output_type": "stream",
       "stream": "stdout",
       "text": [
        "1\n",
        "2\n",
        "Fizz\n",
        "4\n",
        "Buzz\n",
        "Fizz\n",
        "7\n",
        "8\n",
        "Fizz\n",
        "Buzz\n",
        "11\n",
        "Fizz\n",
        "13\n",
        "14\n",
        "FizzBuzz\n",
        "16\n",
        "17\n",
        "Fizz\n",
        "19\n",
        "Buzz\n",
        "Fizz\n",
        "22\n",
        "23\n",
        "Fizz\n",
        "Buzz\n",
        "26\n",
        "Fizz\n",
        "28\n",
        "29\n",
        "FizzBuzz\n",
        "31\n",
        "32\n",
        "Fizz\n",
        "34\n",
        "Buzz\n",
        "Fizz\n",
        "37\n",
        "38\n",
        "Fizz\n",
        "Buzz\n",
        "41\n",
        "Fizz\n",
        "43\n",
        "44\n",
        "FizzBuzz\n",
        "46\n",
        "47\n",
        "Fizz\n",
        "49\n",
        "Buzz\n",
        "Fizz\n",
        "52\n",
        "53\n",
        "Fizz\n",
        "Buzz\n",
        "56\n",
        "Fizz\n",
        "58\n",
        "59\n",
        "FizzBuzz\n",
        "61\n",
        "62\n",
        "Fizz\n",
        "64\n",
        "Buzz\n",
        "Fizz\n",
        "67\n",
        "68\n",
        "Fizz\n",
        "Buzz\n",
        "71\n",
        "Fizz\n",
        "73\n",
        "74\n",
        "FizzBuzz\n",
        "76\n",
        "77\n",
        "Fizz\n",
        "79\n",
        "Buzz\n",
        "Fizz\n",
        "82\n",
        "83\n",
        "Fizz\n",
        "Buzz\n",
        "86\n",
        "Fizz\n",
        "88\n",
        "89\n",
        "FizzBuzz\n",
        "91\n",
        "92\n",
        "Fizz\n",
        "94\n",
        "Buzz\n",
        "Fizz\n",
        "97\n",
        "98\n",
        "Fizz\n",
        "Buzz\n"
       ]
      }
     ],
     "prompt_number": 67
    },
    {
     "cell_type": "code",
     "collapsed": false,
     "input": [],
     "language": "python",
     "metadata": {},
     "outputs": []
    }
   ],
   "metadata": {}
  }
 ]
}